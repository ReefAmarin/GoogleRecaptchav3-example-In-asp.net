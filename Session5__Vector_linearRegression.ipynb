{
  "nbformat": 4,
  "nbformat_minor": 0,
  "metadata": {
    "colab": {
      "name": "Session5_ Vector - linearRegression",
      "provenance": [],
      "authorship_tag": "ABX9TyMzitOPCa7z1omMiUoPTFJX",
      "include_colab_link": true
    },
    "kernelspec": {
      "name": "python3",
      "display_name": "Python 3"
    },
    "language_info": {
      "name": "python"
    }
  },
  "cells": [
    {
      "cell_type": "markdown",
      "metadata": {
        "id": "view-in-github",
        "colab_type": "text"
      },
      "source": [
        "<a href=\"https://colab.research.google.com/github/ReefAmarin/GoogleRecaptchav3-example-In-asp.net/blob/master/Session5__Vector_linearRegression.ipynb\" target=\"_parent\"><img src=\"https://colab.research.google.com/assets/colab-badge.svg\" alt=\"Open In Colab\"/></a>"
      ]
    },
    {
      "cell_type": "code",
      "metadata": {
        "id": "0IYi4XKnLH-a"
      },
      "source": [
        "import pandas as pd\n",
        "import matplotlib.pyplot as plt\n",
        "import numpy as np\n",
        "from sklearn.linear_model import LinearRegression\n",
        "from sklearn.metrics import r2_score\n",
        "from sklearn.svm import SVR\n",
        "from sklearn.preprocessing import StandardScaler\n",
        "from sklearn.tree import DecisionTreeRegressor\n",
        "from sklearn.ensemble import RandomForestRegressor\n",
        "from sklearn.model_selection import train_test_split\n",
        "from sklearn.preprocessing import StandardScaler"
      ],
      "execution_count": 11,
      "outputs": []
    },
    {
      "cell_type": "code",
      "metadata": {
        "colab": {
          "base_uri": "https://localhost:8080/",
          "height": 1000
        },
        "id": "1-Z9Rh_dLTHt",
        "outputId": "b45c7367-c9cf-4959-fb2e-0b322830241b"
      },
      "source": [
        "df=pd.read_csv('/content/Session5_Exercise.csv')\n",
        "df"
      ],
      "execution_count": 2,
      "outputs": [
        {
          "output_type": "execute_result",
          "data": {
            "text/html": [
              "<div>\n",
              "<style scoped>\n",
              "    .dataframe tbody tr th:only-of-type {\n",
              "        vertical-align: middle;\n",
              "    }\n",
              "\n",
              "    .dataframe tbody tr th {\n",
              "        vertical-align: top;\n",
              "    }\n",
              "\n",
              "    .dataframe thead th {\n",
              "        text-align: right;\n",
              "    }\n",
              "</style>\n",
              "<table border=\"1\" class=\"dataframe\">\n",
              "  <thead>\n",
              "    <tr style=\"text-align: right;\">\n",
              "      <th></th>\n",
              "      <th>CityIndex</th>\n",
              "      <th>Temperature</th>\n",
              "    </tr>\n",
              "  </thead>\n",
              "  <tbody>\n",
              "    <tr>\n",
              "      <th>0</th>\n",
              "      <td>1</td>\n",
              "      <td>1.81</td>\n",
              "    </tr>\n",
              "    <tr>\n",
              "      <th>1</th>\n",
              "      <td>2</td>\n",
              "      <td>4.01</td>\n",
              "    </tr>\n",
              "    <tr>\n",
              "      <th>2</th>\n",
              "      <td>3</td>\n",
              "      <td>5.45</td>\n",
              "    </tr>\n",
              "    <tr>\n",
              "      <th>3</th>\n",
              "      <td>4</td>\n",
              "      <td>7.37</td>\n",
              "    </tr>\n",
              "    <tr>\n",
              "      <th>4</th>\n",
              "      <td>5</td>\n",
              "      <td>9.04</td>\n",
              "    </tr>\n",
              "    <tr>\n",
              "      <th>5</th>\n",
              "      <td>6</td>\n",
              "      <td>11.74</td>\n",
              "    </tr>\n",
              "    <tr>\n",
              "      <th>6</th>\n",
              "      <td>7</td>\n",
              "      <td>13.21</td>\n",
              "    </tr>\n",
              "    <tr>\n",
              "      <th>7</th>\n",
              "      <td>8</td>\n",
              "      <td>13.08</td>\n",
              "    </tr>\n",
              "    <tr>\n",
              "      <th>8</th>\n",
              "      <td>9</td>\n",
              "      <td>15.42</td>\n",
              "    </tr>\n",
              "    <tr>\n",
              "      <th>9</th>\n",
              "      <td>10</td>\n",
              "      <td>20.68</td>\n",
              "    </tr>\n",
              "    <tr>\n",
              "      <th>10</th>\n",
              "      <td>11</td>\n",
              "      <td>18.22</td>\n",
              "    </tr>\n",
              "    <tr>\n",
              "      <th>11</th>\n",
              "      <td>12</td>\n",
              "      <td>21.80</td>\n",
              "    </tr>\n",
              "    <tr>\n",
              "      <th>12</th>\n",
              "      <td>13</td>\n",
              "      <td>25.51</td>\n",
              "    </tr>\n",
              "    <tr>\n",
              "      <th>13</th>\n",
              "      <td>14</td>\n",
              "      <td>28.68</td>\n",
              "    </tr>\n",
              "    <tr>\n",
              "      <th>14</th>\n",
              "      <td>15</td>\n",
              "      <td>27.49</td>\n",
              "    </tr>\n",
              "    <tr>\n",
              "      <th>15</th>\n",
              "      <td>16</td>\n",
              "      <td>28.94</td>\n",
              "    </tr>\n",
              "    <tr>\n",
              "      <th>16</th>\n",
              "      <td>17</td>\n",
              "      <td>31.96</td>\n",
              "    </tr>\n",
              "    <tr>\n",
              "      <th>17</th>\n",
              "      <td>18</td>\n",
              "      <td>26.96</td>\n",
              "    </tr>\n",
              "    <tr>\n",
              "      <th>18</th>\n",
              "      <td>19</td>\n",
              "      <td>30.48</td>\n",
              "    </tr>\n",
              "    <tr>\n",
              "      <th>19</th>\n",
              "      <td>20</td>\n",
              "      <td>33.46</td>\n",
              "    </tr>\n",
              "    <tr>\n",
              "      <th>20</th>\n",
              "      <td>21</td>\n",
              "      <td>33.74</td>\n",
              "    </tr>\n",
              "    <tr>\n",
              "      <th>21</th>\n",
              "      <td>22</td>\n",
              "      <td>30.30</td>\n",
              "    </tr>\n",
              "    <tr>\n",
              "      <th>22</th>\n",
              "      <td>23</td>\n",
              "      <td>32.72</td>\n",
              "    </tr>\n",
              "    <tr>\n",
              "      <th>23</th>\n",
              "      <td>24</td>\n",
              "      <td>34.23</td>\n",
              "    </tr>\n",
              "    <tr>\n",
              "      <th>24</th>\n",
              "      <td>25</td>\n",
              "      <td>31.31</td>\n",
              "    </tr>\n",
              "    <tr>\n",
              "      <th>25</th>\n",
              "      <td>26</td>\n",
              "      <td>32.65</td>\n",
              "    </tr>\n",
              "    <tr>\n",
              "      <th>26</th>\n",
              "      <td>27</td>\n",
              "      <td>29.81</td>\n",
              "    </tr>\n",
              "    <tr>\n",
              "      <th>27</th>\n",
              "      <td>28</td>\n",
              "      <td>36.07</td>\n",
              "    </tr>\n",
              "    <tr>\n",
              "      <th>28</th>\n",
              "      <td>29</td>\n",
              "      <td>35.76</td>\n",
              "    </tr>\n",
              "    <tr>\n",
              "      <th>29</th>\n",
              "      <td>30</td>\n",
              "      <td>37.47</td>\n",
              "    </tr>\n",
              "    <tr>\n",
              "      <th>30</th>\n",
              "      <td>31</td>\n",
              "      <td>35.48</td>\n",
              "    </tr>\n",
              "    <tr>\n",
              "      <th>31</th>\n",
              "      <td>32</td>\n",
              "      <td>37.21</td>\n",
              "    </tr>\n",
              "    <tr>\n",
              "      <th>32</th>\n",
              "      <td>33</td>\n",
              "      <td>34.84</td>\n",
              "    </tr>\n",
              "    <tr>\n",
              "      <th>33</th>\n",
              "      <td>34</td>\n",
              "      <td>38.41</td>\n",
              "    </tr>\n",
              "    <tr>\n",
              "      <th>34</th>\n",
              "      <td>35</td>\n",
              "      <td>32.83</td>\n",
              "    </tr>\n",
              "    <tr>\n",
              "      <th>35</th>\n",
              "      <td>36</td>\n",
              "      <td>31.68</td>\n",
              "    </tr>\n",
              "    <tr>\n",
              "      <th>36</th>\n",
              "      <td>37</td>\n",
              "      <td>26.07</td>\n",
              "    </tr>\n",
              "    <tr>\n",
              "      <th>37</th>\n",
              "      <td>38</td>\n",
              "      <td>30.57</td>\n",
              "    </tr>\n",
              "    <tr>\n",
              "      <th>38</th>\n",
              "      <td>39</td>\n",
              "      <td>30.00</td>\n",
              "    </tr>\n",
              "    <tr>\n",
              "      <th>39</th>\n",
              "      <td>40</td>\n",
              "      <td>29.84</td>\n",
              "    </tr>\n",
              "    <tr>\n",
              "      <th>40</th>\n",
              "      <td>41</td>\n",
              "      <td>27.57</td>\n",
              "    </tr>\n",
              "    <tr>\n",
              "      <th>41</th>\n",
              "      <td>42</td>\n",
              "      <td>27.55</td>\n",
              "    </tr>\n",
              "    <tr>\n",
              "      <th>42</th>\n",
              "      <td>43</td>\n",
              "      <td>22.37</td>\n",
              "    </tr>\n",
              "    <tr>\n",
              "      <th>43</th>\n",
              "      <td>44</td>\n",
              "      <td>24.91</td>\n",
              "    </tr>\n",
              "    <tr>\n",
              "      <th>44</th>\n",
              "      <td>45</td>\n",
              "      <td>20.92</td>\n",
              "    </tr>\n",
              "    <tr>\n",
              "      <th>45</th>\n",
              "      <td>46</td>\n",
              "      <td>20.87</td>\n",
              "    </tr>\n",
              "    <tr>\n",
              "      <th>46</th>\n",
              "      <td>47</td>\n",
              "      <td>16.31</td>\n",
              "    </tr>\n",
              "    <tr>\n",
              "      <th>47</th>\n",
              "      <td>48</td>\n",
              "      <td>16.39</td>\n",
              "    </tr>\n",
              "    <tr>\n",
              "      <th>48</th>\n",
              "      <td>49</td>\n",
              "      <td>13.70</td>\n",
              "    </tr>\n",
              "    <tr>\n",
              "      <th>49</th>\n",
              "      <td>50</td>\n",
              "      <td>12.66</td>\n",
              "    </tr>\n",
              "    <tr>\n",
              "      <th>50</th>\n",
              "      <td>51</td>\n",
              "      <td>10.75</td>\n",
              "    </tr>\n",
              "    <tr>\n",
              "      <th>51</th>\n",
              "      <td>52</td>\n",
              "      <td>8.30</td>\n",
              "    </tr>\n",
              "    <tr>\n",
              "      <th>52</th>\n",
              "      <td>53</td>\n",
              "      <td>7.24</td>\n",
              "    </tr>\n",
              "    <tr>\n",
              "      <th>53</th>\n",
              "      <td>54</td>\n",
              "      <td>4.76</td>\n",
              "    </tr>\n",
              "  </tbody>\n",
              "</table>\n",
              "</div>"
            ],
            "text/plain": [
              "    CityIndex  Temperature\n",
              "0           1         1.81\n",
              "1           2         4.01\n",
              "2           3         5.45\n",
              "3           4         7.37\n",
              "4           5         9.04\n",
              "5           6        11.74\n",
              "6           7        13.21\n",
              "7           8        13.08\n",
              "8           9        15.42\n",
              "9          10        20.68\n",
              "10         11        18.22\n",
              "11         12        21.80\n",
              "12         13        25.51\n",
              "13         14        28.68\n",
              "14         15        27.49\n",
              "15         16        28.94\n",
              "16         17        31.96\n",
              "17         18        26.96\n",
              "18         19        30.48\n",
              "19         20        33.46\n",
              "20         21        33.74\n",
              "21         22        30.30\n",
              "22         23        32.72\n",
              "23         24        34.23\n",
              "24         25        31.31\n",
              "25         26        32.65\n",
              "26         27        29.81\n",
              "27         28        36.07\n",
              "28         29        35.76\n",
              "29         30        37.47\n",
              "30         31        35.48\n",
              "31         32        37.21\n",
              "32         33        34.84\n",
              "33         34        38.41\n",
              "34         35        32.83\n",
              "35         36        31.68\n",
              "36         37        26.07\n",
              "37         38        30.57\n",
              "38         39        30.00\n",
              "39         40        29.84\n",
              "40         41        27.57\n",
              "41         42        27.55\n",
              "42         43        22.37\n",
              "43         44        24.91\n",
              "44         45        20.92\n",
              "45         46        20.87\n",
              "46         47        16.31\n",
              "47         48        16.39\n",
              "48         49        13.70\n",
              "49         50        12.66\n",
              "50         51        10.75\n",
              "51         52         8.30\n",
              "52         53         7.24\n",
              "53         54         4.76"
            ]
          },
          "metadata": {
            "tags": []
          },
          "execution_count": 2
        }
      ]
    },
    {
      "cell_type": "code",
      "metadata": {
        "colab": {
          "base_uri": "https://localhost:8080/",
          "height": 295
        },
        "id": "FJ_8ezmBLm4L",
        "outputId": "08f17764-d69a-44bb-c3a4-d61299070266"
      },
      "source": [
        "X = df['CityIndex'].values\n",
        "Y = df['Temperature'].values\n",
        "plt.scatter(X,Y,color = 'g')\n",
        "plt.grid()\n",
        "plt.xlabel('CityIndex')\n",
        "plt.ylabel('Temperature in °C')\n",
        "plt.title('Raw Data')\n",
        "plt.show()"
      ],
      "execution_count": 3,
      "outputs": [
        {
          "output_type": "display_data",
          "data": {
            "image/png": "[encoded data removed]",
            "text/plain": [
              "<Figure size 432x288 with 1 Axes>"
            ]
          },
          "metadata": {
            "tags": [],
            "needs_background": "light"
          }
        }
      ]
    },
    {
      "cell_type": "code",
      "metadata": {
        "colab": {
          "base_uri": "https://localhost:8080/"
        },
        "id": "MeISE3mSNfD0",
        "outputId": "96c9ed76-f3bc-4166-fea7-2f600ede9a88"
      },
      "source": [
        "train_test_split(X,y,test_size = 0.2)\n",
        "X_train, X_test, y_train, y_test = train_test_split(X,y,test_size = 0.2,random_state=10)\n",
        "X_train, X_test, y_train, y_test"
      ],
      "execution_count": 18,
      "outputs": [
        {
          "output_type": "execute_result",
          "data": {
            "text/plain": [
              "(array([[35],\n",
              "        [ 8],\n",
              "        [ 7],\n",
              "        [43],\n",
              "        [ 3],\n",
              "        [52],\n",
              "        [44],\n",
              "        [11],\n",
              "        [38],\n",
              "        [28],\n",
              "        [19],\n",
              "        [ 5],\n",
              "        [ 2],\n",
              "        [13],\n",
              "        [49],\n",
              "        [23],\n",
              "        [31],\n",
              "        [48],\n",
              "        [20],\n",
              "        [33],\n",
              "        [ 6],\n",
              "        [14],\n",
              "        [15],\n",
              "        [45],\n",
              "        [34],\n",
              "        [25],\n",
              "        [12],\n",
              "        [42],\n",
              "        [17],\n",
              "        [53],\n",
              "        [41],\n",
              "        [51],\n",
              "        [54],\n",
              "        [ 9],\n",
              "        [47],\n",
              "        [30],\n",
              "        [26],\n",
              "        [29],\n",
              "        [50],\n",
              "        [ 1],\n",
              "        [16],\n",
              "        [37],\n",
              "        [10]]), array([[21],\n",
              "        [ 4],\n",
              "        [46],\n",
              "        [18],\n",
              "        [32],\n",
              "        [36],\n",
              "        [40],\n",
              "        [27],\n",
              "        [22],\n",
              "        [39],\n",
              "        [24]]), array([32.83, 13.08, 13.21, 22.37,  5.45,  8.3 , 24.91, 18.22, 30.57,\n",
              "        36.07, 30.48,  9.04,  4.01, 25.51, 13.7 , 32.72, 35.48, 16.39,\n",
              "        33.46, 34.84, 11.74, 28.68, 27.49, 20.92, 38.41, 31.31, 21.8 ,\n",
              "        27.55, 31.96,  7.24, 27.57, 10.75,  4.76, 15.42, 16.31, 37.47,\n",
              "        32.65, 35.76, 12.66,  1.81, 28.94, 26.07, 20.68]), array([33.74,  7.37, 20.87, 26.96, 37.21, 31.68, 29.84, 29.81, 30.3 ,\n",
              "        30.  , 34.23]))"
            ]
          },
          "metadata": {
            "tags": []
          },
          "execution_count": 18
        }
      ]
    },
    {
      "cell_type": "code",
      "metadata": {
        "colab": {
          "base_uri": "https://localhost:8080/",
          "height": 295
        },
        "id": "Gjd9Gd3LMP_U",
        "outputId": "0b7a2078-6b78-49d9-84a9-01d411d3ba9f"
      },
      "source": [
        "x = df.iloc[:,:-1].values\n",
        "y = df.iloc[:,-1].values\n",
        "regressorObj = LinearRegression()\n",
        "regressorObj.fit(x,y)\n",
        "y_pred = regressorObj.predict(x)\n",
        "\n",
        "\n",
        "plt.scatter(X,y,color = 'g', label = 'Raw Data')\n",
        "plt.plot(X,regressorObj.predict(x), color = 'blue', label = 'Predicted Linear Model')\n",
        "plt.grid()\n",
        "plt.xlabel('CityIndex')\n",
        "plt.ylabel('Temperature in °C')\n",
        "plt.title(f'Fitted Linear Model {r2_score(y, y_pred)}')\n",
        "plt.show()"
      ],
      "execution_count": 28,
      "outputs": [
        {
          "output_type": "display_data",
          "data": {
            "image/png": "[encoded data removed]",
            "text/plain": [
              "<Figure size 432x288 with 1 Axes>"
            ]
          },
          "metadata": {
            "tags": [],
            "needs_background": "light"
          }
        }
      ]
    },
    {
      "cell_type": "code",
      "metadata": {
        "colab": {
          "base_uri": "https://localhost:8080/",
          "height": 349
        },
        "id": "Xua3hHKMSAMp",
        "outputId": "a40d6abb-63ef-4cf4-8594-86c97bfaf7a3"
      },
      "source": [
        "X = df.iloc[:,:-1].values\n",
        "y = df.iloc[:,-1].values\n",
        "\n",
        "sc_x = StandardScaler()\n",
        "sc_y = StandardScaler()\n",
        "\n",
        "X = sc_x.fit_transform(X)\n",
        "y = y.reshape(len(y),1)\n",
        "y = sc_y.fit_transform(y)\n",
        "\n",
        "regressor  = SVR(kernel = 'rbf')\n",
        "regressor.fit(X,y)\n",
        "y_pred = regressor.predict(X)\n",
        "\n",
        "plt.scatter(sc_x.inverse_transform(X),sc_y.inverse_transform(y), color = 'r', label = 'Raw Data')\n",
        "plt.plot(sc_x.inverse_transform(X), sc_y.inverse_transform(regressor.predict(X)), color = 'k', label = 'Predicted SVR')\n",
        "plt.grid()\n",
        "plt.xlabel('City Index')\n",
        "plt.ylabel('Temperature in °C')\n",
        "plt.title(f'Fitted SVR Model {r2_score(y, y_pred)}')\n",
        "plt.show()"
      ],
      "execution_count": 29,
      "outputs": [
        {
          "output_type": "stream",
          "text": [
            "/usr/local/lib/python3.7/dist-packages/sklearn/utils/validation.py:760: DataConversionWarning: A column-vector y was passed when a 1d array was expected. Please change the shape of y to (n_samples, ), for example using ravel().\n",
            "  y = column_or_1d(y, warn=True)\n"
          ],
          "name": "stderr"
        },
        {
          "output_type": "display_data",
          "data": {
            "image/png": "[encoded data removed]",
            "text/plain": [
              "<Figure size 432x288 with 1 Axes>"
            ]
          },
          "metadata": {
            "tags": [],
            "needs_background": "light"
          }
        }
      ]
    },
    {
      "cell_type": "code",
      "metadata": {
        "colab": {
          "base_uri": "https://localhost:8080/",
          "height": 282
        },
        "id": "2sY7d3A4S7MQ",
        "outputId": "d57c4e30-8503-4746-9254-a971b03d2c66"
      },
      "source": [
        "regressor = DecisionTreeRegressor()\n",
        "X = df.iloc[:,:-1].values\n",
        "y = df.iloc[:,-1].values\n",
        "regressor.fit(X,y)\n",
        "\n",
        "X_grid = np.arange(1, 53,0.1)\n",
        "X_grid = X_grid.reshape(len(X_grid),1)\n",
        "y_pred = regressor.predict(X_grid)\n",
        "\n",
        "plt.plot(X_grid,y_pred, color = 'k', label = 'Decision Tree Predicted Values')\n",
        "plt.grid()\n",
        "plt.xlabel('City Index')\n",
        "plt.ylabel('Temperature in °C')\n",
        "\n",
        "plt.legend()\n",
        "plt.show()"
      ],
      "execution_count": 26,
      "outputs": [
        {
          "output_type": "display_data",
          "data": {
            "image/png": "[encoded data removed]",
            "text/plain": [
              "<Figure size 432x288 with 1 Axes>"
            ]
          },
          "metadata": {
            "tags": [],
            "needs_background": "light"
          }
        }
      ]
    },
    {
      "cell_type": "code",
      "metadata": {
        "colab": {
          "base_uri": "https://localhost:8080/",
          "height": 282
        },
        "id": "iq6Hdvb8TD98",
        "outputId": "31daa95b-01e6-47bd-c437-50a4e404389c"
      },
      "source": [
        "regressor = RandomForestRegressor(n_estimators = 100)\n",
        "X = df.iloc[:,:-1].values\n",
        "y = df.iloc[:,-1].values\n",
        "regressor.fit(x,y)\n",
        "\n",
        "X_grid = np.arange(np.min(X), np.max(X),0.1)\n",
        "X_grid = X_grid.reshape(len(X_grid),1)\n",
        "y_pred = regressor.predict(X_grid)\n",
        "\n",
        "plt.scatter(x,y,color = 'r', label = 'Raw Data')\n",
        "\n",
        "plt.plot(X_grid,y_pred, color = 'k', label = 'Decision Tree Predicted Values')\n",
        "plt.grid()\n",
        "plt.xlabel('City Index')\n",
        "plt.ylabel('Temperature in °C')\n",
        "\n",
        "plt.legend()\n",
        "plt.show()"
      ],
      "execution_count": 27,
      "outputs": [
        {
          "output_type": "display_data",
          "data": {
            "image/png": "[encoded data removed]",
            "text/plain": [
              "<Figure size 432x288 with 1 Axes>"
            ]
          },
          "metadata": {
            "tags": [],
            "needs_background": "light"
          }
        }
      ]
    }
  ]
}